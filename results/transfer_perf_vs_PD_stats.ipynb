{
 "cells": [
  {
   "cell_type": "code",
   "execution_count": 57,
   "metadata": {},
   "outputs": [],
   "source": [
    "import numpy as np\n",
    "import pandas as pd\n",
    "import seaborn as sns\n",
    "import sklearn\n",
    "import matplotlib.pyplot as plt\n",
    "import scipy"
   ]
  },
  {
   "cell_type": "code",
   "execution_count": 58,
   "metadata": {},
   "outputs": [],
   "source": [
    "path_to_ssl = '/mnt/c/PythonScripts/segp/github_version/'\n",
    "relative_path = 'SSL/results/scaled_catplot_box_full_data.csv'\n",
    "fpath = path_to_ssl + relative_path\n",
    "df_full_data = pd.read_csv(fpath, index_col = False)\n",
    "#df_full_data = df_full_data.drop([df_full_data.index[8],df_full_data.index[9],df_full_data.index[10],df_full_data.index[11],df_full_data.index[12]])\n",
    "df_full_data.reset_index(drop=True, inplace=True)"
   ]
  },
  {
   "cell_type": "code",
   "execution_count": 59,
   "metadata": {},
   "outputs": [],
   "source": [
    "medical_datasets = [\"shenzhencxr\",\"montgomerycxr\",\"bach\",\"iChallengeAMD\",\n",
    "                \"iChallengePM\",\"chexpert\",\"stoic\",\"diabetic retinopathy\"]\n",
    "x_column_names = ['few shot shenzhencxr', 'few shot montgomerycxr', 'few shot bach',\n",
    "       'few shot iChallengeAMD', 'few shot iChallengePM', 'few shot chexpert',\n",
    "       'few shot stoic', 'few shot diabetic retinopathy (5way)']\n",
    "y_column_names = [\"perceptual distance average shenzhencxr\",\"perceptual distance average montgomerycxr\",\"perceptual distance average diabetic retinopathy\",\"perceptual distance average chestx\",\"perceptual distance average bach\",\"perceptual distance average iChallengeAMD\",\"perceptual distance average iChallengePM\",\"perceptual distance average chexpert\",\"perceptual distance average stoic\",\"perceptual distance average imagenet\"]\n",
    "y_err_column_names = []\n",
    "for column in y_column_names:\n",
    "    y_err_column_names.append(column+\" uncertainty\")\n",
    "column_names = y_column_names+y_err_column_names+x_column_names\n",
    "df = df_full_data.loc[:,tuple(column_names)]\n",
    "df.dropna(inplace = True)\n",
    "\n",
    "def get_vals_in_lists(df,x_column_name, y_column_name, y_error_column_name):\n",
    "    y_error = np.squeeze(df.loc[:,[y_error_column_name]].values).tolist()\n",
    "    y = np.squeeze(df.loc[:,[y_column_name]].values).tolist()\n",
    "    x = np.squeeze(df.loc[:,[x_column_name]].values).tolist()\n",
    "    return x, y , y_error\n",
    "\n"
   ]
  },
  {
   "cell_type": "code",
   "execution_count": 60,
   "metadata": {},
   "outputs": [],
   "source": [
    "def fit_regression_line(x,y,yerr):\n",
    "    popt, pcov = scipy.optimize.curve_fit(linear_function,x,y,sigma = yerr)\n",
    "    perr = np.sqrt(np.diag(pcov))\n",
    "    return popt[0],popt[1], perr\n",
    "\n",
    "def linear_function(x,m,c):\n",
    "    return m*x+c\n",
    "\n",
    "def plot_single_line(x,m,c):\n",
    "    line_vals = []\n",
    "    for x_val in x:\n",
    "        line_vals.append(linear_function(x_val,m,c))\n",
    "    plt.plot(x,line_vals, color = \"black\", zorder = -1)\n",
    "    return line_vals\n",
    "\n",
    "def calculate_chisquare(y,y_pred,yerr):\n",
    "    chi_squared = 0\n",
    "    res= []\n",
    "    for i in range(len(y)):\n",
    "        chi_squared += ((y_pred[i]-y[i])/yerr[i])**2\n",
    "        res.append((-y_pred[i]+y[i])/yerr[i])\n",
    "    v = len(y)-2\n",
    "    return chi_squared/v\n",
    "    \n",
    "def find_and_plot_linear(x,y,yerr):\n",
    "    r,p_val = scipy.stats.pearsonr(x,y)\n",
    "    m,c,param_errs = fit_regression_line(x,y,yerr)\n",
    "    y_pred = plot_single_line(x,m,c)\n",
    "    chi2_reduced = calculate_chisquare(y,y_pred,yerr)\n",
    "    #print(f\"Fit line with m = {m} +- {param_errs[0]} and c = {c} +- {param_errs[1]}\")\n",
    "    #print(f\"Pearsons r (and p value): {r}, {p_val}; Reduced Chi-Squared: {chi2_reduced}\")\n",
    "    return m,param_errs[0],c,param_errs[1],r,p_val,chi2_reduced"
   ]
  },
  {
   "cell_type": "code",
   "execution_count": 62,
   "metadata": {},
   "outputs": [
    {
     "name": "stdout",
     "output_type": "stream",
     "text": [
      "-0.5033308961406928 2.2907613325189082 1.1588652520364306 1.6873125554841797 0.14591035686800438 0.7302762890658621 19.753880198190807\n",
      " \n",
      "-9.780319835850985 0.8374213928357609 6.98313473944344 0.5266386618591524 -0.29301399390826255 0.4812354852686576 53.76332971877239\n",
      " \n",
      "-5.356157856615507 5.9537938725602055 5.176300111840676 4.821670231593075 0.4234520446772462 0.29583409742299777 6.271315532099531\n",
      " \n",
      "-5.118922065180037 3.4452272376377944 4.413782484657244 2.5720999150224833 -0.5595429000217297 0.14927166022600666 4.139001163335011\n",
      " \n",
      "-6.093663644611269 13.8761574221664 6.395040911724745 13.128551381029704 -0.11411632151183194 0.787882244663899 8.483239667546771\n",
      " \n",
      "-1.966029988553326 2.185360307442122 1.896176159685313 1.241167464810821 0.1275729106684967 0.7633834082147004 6.330395060814946\n",
      " \n",
      "-11.332577170576911 8.367105023668119 6.417576618286035 4.303238562242818 -0.3450566806750669 0.4025392028634491 4.652899191783438\n",
      " \n",
      "5.7269361648976425 5.292988569568541 -1.2834780376971948 1.7591701316124513 0.5080815241182808 0.19859977209995583 2.8942436523898856\n",
      " \n"
     ]
    },
    {
     "data": {
      "image/png": "[encoded data removed]",
      "text/plain": [
       "<Figure size 432x288 with 1 Axes>"
      ]
     },
     "metadata": {
      "needs_background": "light"
     },
     "output_type": "display_data"
    }
   ],
   "source": [
    "#print(\"Length: \", 13)\n",
    "for dataset in medical_datasets:\n",
    "    if dataset ==  \"diabetic retinopathy\":\n",
    "        x_column_name = \"few shot \"+dataset + \" (5way)\"\n",
    "    else:\n",
    "        x_column_name = \"few shot \"+dataset\n",
    "    y_column_name = \"perceptual distance average \"+dataset\n",
    "    y_error_column_name = y_column_name + \" uncertainty\"\n",
    "    x,y,yerr = get_vals_in_lists(df,x_column_name, y_column_name, y_error_column_name)\n",
    "    plt.errorbar(x,y,yerr, fmt = \"o\")\n",
    "    #print(\"Dataset: \",dataset)\n",
    "    m,m_err,c,c_err,r,p_val,chi2_reduced = find_and_plot_linear(x,y,yerr)\n",
    "    #plt.show()\n",
    "    print(m,m_err,c,c_err,r,p_val,chi2_reduced)\n",
    "    print(\" \")\n",
    "\n",
    "\n",
    "\n"
   ]
  },
  {
   "cell_type": "code",
   "execution_count": null,
   "metadata": {},
   "outputs": [],
   "source": [
    "# Same as above but for imagenet performance vs transfer performance"
   ]
  },
  {
   "cell_type": "code",
   "execution_count": 69,
   "metadata": {},
   "outputs": [],
   "source": [
    "path_to_ssl = '/mnt/c/PythonScripts/segp/github_version/'\n",
    "relative_path = 'SSL/results/scaled_catplot_box_full_data.csv'\n",
    "fpath = path_to_ssl + relative_path\n",
    "df_full_data = pd.read_csv(fpath, index_col = False)\n",
    "df_full_data = df_full_data.drop([df_full_data.index[8],df_full_data.index[9],df_full_data.index[10],df_full_data.index[11],df_full_data.index[12]])\n",
    "df_full_data.reset_index(drop=True, inplace=True)\n"
   ]
  },
  {
   "cell_type": "code",
   "execution_count": 71,
   "metadata": {},
   "outputs": [],
   "source": [
    "medical_datasets = [\"shenzhencxr\",\"montgomerycxr\",\"bach\",\"iChallengeAMD\",\n",
    "                \"iChallengePM\",\"chexpert\",\"stoic\",\"diabetic retinopathy\"]\n",
    "y_column_names = ['few shot shenzhencxr', 'few shot montgomerycxr', 'few shot bach',\n",
    "       'few shot iChallengeAMD', 'few shot iChallengePM', 'few shot chexpert',\n",
    "       'few shot stoic', 'few shot diabetic retinopathy (5way)']\n",
    "x_column_names = [\"imagenet top1\"]\n",
    "y_err_column_names = []\n",
    "for column in y_column_names:\n",
    "    y_err_column_names.append(column+\" uncertainty\")\n",
    "column_names = y_column_names+y_err_column_names+x_column_names\n",
    "df = df_full_data.loc[:,tuple(column_names)]\n",
    "df.dropna(inplace = True)\n",
    "def get_vals_in_lists(df,x_column_name, y_column_name, y_error_column_name):\n",
    "    y_error = np.squeeze(df.loc[:,[y_error_column_name]].values).tolist()\n",
    "    y = np.squeeze(df.loc[:,[y_column_name]].values).tolist()\n",
    "    x = np.squeeze(df.loc[:,[x_column_name]].values).tolist()\n",
    "    return x, y , y_error"
   ]
  },
  {
   "cell_type": "code",
   "execution_count": 66,
   "metadata": {},
   "outputs": [],
   "source": [
    "def fit_regression_line(x,y,yerr):\n",
    "    popt, pcov = scipy.optimize.curve_fit(linear_function,x,y,sigma = yerr)\n",
    "    perr = np.sqrt(np.diag(pcov))\n",
    "    return popt[0],popt[1], perr\n",
    "\n",
    "def linear_function(x,m,c):\n",
    "    return m*x+c\n",
    "\n",
    "def plot_single_line(x,m,c):\n",
    "    line_vals = []\n",
    "    for x_val in x:\n",
    "        line_vals.append(linear_function(x_val,m,c))\n",
    "    plt.plot(x,line_vals, color = \"black\", zorder = -1)\n",
    "    return line_vals\n",
    "\n",
    "def calculate_chisquare(y,y_pred,yerr):\n",
    "    chi_squared = 0\n",
    "    res= []\n",
    "    for i in range(len(y)):\n",
    "        chi_squared += ((y_pred[i]-y[i])/yerr[i])**2\n",
    "        res.append((-y_pred[i]+y[i])/yerr[i])\n",
    "    v = len(y)-2\n",
    "    return chi_squared/v\n",
    "    \n",
    "def find_and_plot_linear(x,y,yerr):\n",
    "    r,p_val = scipy.stats.pearsonr(x,y)\n",
    "    m,c,param_errs = fit_regression_line(x,y,yerr)\n",
    "    y_pred = plot_single_line(x,m,c)\n",
    "    chi2_reduced = calculate_chisquare(y,y_pred,yerr)\n",
    "    #print(f\"Fit line with m = {m} +- {param_errs[0]} and c = {c} +- {param_errs[1]}\")\n",
    "    #print(f\"Pearsons r (and p value): {r}, {p_val}; Reduced Chi-Squared: {chi2_reduced}\")\n",
    "    return m,param_errs[0],c,param_errs[1],r,p_val,chi2_reduced"
   ]
  },
  {
   "cell_type": "code",
   "execution_count": 67,
   "metadata": {},
   "outputs": [
    {
     "name": "stdout",
     "output_type": "stream",
     "text": [
      "-0.2639412975216445 0.11508566028464172 0.9352734262370446 0.08265756053373595 -0.6722548649229756 0.06779704152664838 5.598542072280201\n",
      " \n",
      "0.19465075624530292 0.25294791096177505 0.5104260987349503 0.18313206311248986 0.2905173976369041 0.48515354091455026 18.984961763102984\n",
      " \n",
      "0.05317676176056385 0.09044457321199949 0.7780245849927696 0.065376058522474 0.22766868748665364 0.5876427828066578 2.8792921347746643\n",
      " \n",
      "-0.03163106542983596 0.13894116286152644 0.770949419233838 0.10005812174999278 -0.11369861965428948 0.7886452438058663 8.594389738866008\n",
      " \n",
      "0.09776822508642817 0.05403588681088182 0.8758231240472922 0.03915916585273391 0.6146199126095855 0.10491933123677155 4.27303079948304\n",
      " \n",
      "-0.12898311103957077 0.07315328117481612 0.6717918652780648 0.052734482257185376 -0.5890226829906378 0.1244442176093461 1.544375051901663\n",
      " \n",
      "0.09942340436128971 0.05299670855575512 0.44635084448742507 0.038183012547446805 0.5974707237245016 0.11779169777502771 0.8807004184699777\n",
      " \n",
      "-0.07948750087448682 0.07594827342649087 0.39092166937311923 0.05473608018333044 -0.39150600826910936 0.337488055185562 5.56729941480278\n",
      " \n"
     ]
    },
    {
     "data": {
      "image/png": "[encoded data removed]",
      "text/plain": [
       "<Figure size 432x288 with 1 Axes>"
      ]
     },
     "metadata": {
      "needs_background": "light"
     },
     "output_type": "display_data"
    }
   ],
   "source": [
    "#print(\"Length: \", 13)\n",
    "for y_column_name in y_column_names:\n",
    "    y_error_column_name = y_column_name + \" uncertainty\"\n",
    "    x,y,yerr = get_vals_in_lists(df,\"imagenet top1\", y_column_name, y_error_column_name)\n",
    "    plt.errorbar(x,y,yerr, fmt = \"o\")\n",
    "    #print(\"Dataset: \",dataset)\n",
    "    m,m_err,c,c_err,r,p_val,chi2_reduced = find_and_plot_linear(x,y,yerr)\n",
    "    #plt.show()\n",
    "    print(m,m_err,c,c_err,r,p_val,chi2_reduced)\n",
    "    print(\" \")"
   ]
  },
  {
   "cell_type": "code",
   "execution_count": null,
   "metadata": {},
   "outputs": [],
   "source": []
  }
 ],
 "metadata": {
  "interpreter": {
   "hash": "38ed0a01b9d97716726e9cd3f87e8e2f5359d3b8cd97e291b7bd0171c939e2c8"
  },
  "kernelspec": {
   "display_name": "Python 3.8.10 ('ssl_venv')",
   "language": "python",
   "name": "python3"
  },
  "language_info": {
   "codemirror_mode": {
    "name": "ipython",
    "version": 3
   },
   "file_extension": ".py",
   "mimetype": "text/x-python",
   "name": "python",
   "nbconvert_exporter": "python",
   "pygments_lexer": "ipython3",
   "version": "3.8.10"
  },
  "orig_nbformat": 4
 },
 "nbformat": 4,
 "nbformat_minor": 2
}
