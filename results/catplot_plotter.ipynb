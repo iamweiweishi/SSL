{
 "cells": [
  {
   "cell_type": "code",
   "execution_count": 36,
   "metadata": {},
   "outputs": [],
   "source": [
    "import numpy as np\n",
    "import pandas as pd\n",
    "import seaborn as sns\n",
    "import sklearn\n",
    "import matplotlib.pyplot as plt\n",
    "import scipy"
   ]
  },
  {
   "cell_type": "code",
   "execution_count": 37,
   "metadata": {},
   "outputs": [
    {
     "name": "stdout",
     "output_type": "stream",
     "text": [
      "/mnt/c/PythonScripts/segp/github_version/SSL/results/scaled_catplot_box_full_data.csv\n",
      "Index(['Models', 'few shot shenzhencxr', 'few shot shenzhencxr uncertainty',\n",
      "       'few shot montgomerycxr', 'few shot montgomerycxr uncertainty',\n",
      "       'few shot bach', 'few shot bach uncertainty', 'few shot iChallengeAMD',\n",
      "       'few shot iChallengeAMD uncertainty', 'few shot iChallengePM',\n",
      "       ...\n",
      "       'scaled few shot stoic', 'Model Type', 'average performance', 'domain',\n",
      "       'Model Type v2', 'average performance v2', 'domain v2', 'Model Type v3',\n",
      "       'average performance v3', 'domain v3'],\n",
      "      dtype='object', length=105)\n"
     ]
    }
   ],
   "source": [
    "path_to_ssl = '/mnt/c/PythonScripts/segp/github_version/'\n",
    "relative_path = 'SSL/results/scaled_catplot_box_full_data.csv'\n",
    "fpath = path_to_ssl + relative_path\n",
    "print(fpath)\n",
    "df = pd.read_csv(fpath, index_col = False)\n",
    "print(df.columns)"
   ]
  },
  {
   "cell_type": "code",
   "execution_count": 38,
   "metadata": {},
   "outputs": [],
   "source": [
    "# Model names\n",
    "models = [\"simclrv1\",\"mocov2\",\"swav\",\"byol\",\"pirl\",\"supervised r50\",\n",
    "        \"supervised r18\",\"supervised d121\",\"mimic-chexpert lr=0.01\",\n",
    "        \"mimic-chexpert lr=0.1\",\"mimic-chexpert lr=1.0\",\"mimic-cxr r18\",\n",
    "        \"mimic-cxr d121\"]\n",
    "\n",
    "# Base dataset names\n",
    "medical_datasets = [\"shenzhencxr\",\"montgomerycxr\",\"bach\",\"iChallengeAMD\",\n",
    "                \"iChallengePM\",\"chexpert\",\"stoic\",\"diabetic retinopathy (5way)\",\n",
    "                \"chestx (5way)\",\"cifar10 (2way)\"]\n",
    "\n",
    "# All experiment names\n",
    "experiment_types = [\"few shot\", \"linear\", \"finetune\", \"attentive diffusion\", \n",
    "        \"invariance rotation\", \"invariance hflip\", \"invariance hue\", \n",
    "        \"perceptual distance alexnet\", \"perceptual distance vgg\",\n",
    "        \"perceptual distance squeezenet\"]\n",
    "\n",
    "def check_if_experiment_exists(df,experiment_type, medical_dataset):\n",
    "    \"\"\"Check if an experiment is done with a specific medical dataset\"\"\"\n",
    "    column_name = experiment_type + \" \" + medical_dataset\n",
    "    if column_name in df.columns:\n",
    "        return True\n",
    "    else:\n",
    "        return False\n",
    "\n",
    "def check_which_models_experiment_exists_for(df,column_name):\n",
    "    experiment = df.loc[:,[column_name]]\n",
    "    not_contained_indices = experiment.index[experiment.isnull().all(1)].values\n",
    "    return list(not_contained_indices)\n",
    "\n",
    "def extract_cleaned_dataframe(df, column_names):\n",
    "    # column_names should be a list of existing column_names\n",
    "    new_df = df.loc[:,tuple(column_names)]\n",
    "    missing_indices = []\n",
    "    for column in column_names:\n",
    "        missing_indices = missing_indices + check_which_models_experiment_exists_for(df,column)\n",
    "    # remove duplicates\n",
    "    missing_indices = list(set(missing_indices))\n",
    "    missing_indices.sort(reverse = True)\n",
    "    for index in missing_indices:\n",
    "        new_df.drop(index, inplace = True)\n",
    "    return new_df\n",
    "\n",
    "def get_few_shot_uncertainty(full_df,list_of_experiment_types, list_of_medical_datasets, column_names):\n",
    "    if \"few shot\" in list_of_experiment_types:\n",
    "        for dataset in list_of_medical_datasets:\n",
    "            column_name = \"few shot \" + dataset + \" uncertainty\"\n",
    "            if column_name in full_df.columns:\n",
    "                column_names.append(column_name)\n",
    "    return column_names\n",
    "\n",
    "def clean_dataframe(full_df, list_of_experiment_types, list_of_medical_datasets,imagenet = True,sns_utils = True):\n",
    "    \"\"\"The imagenet keyword decides whether imagenet top1 column is included\"\"\"\n",
    "    column_names = []\n",
    "    for experiment in list_of_experiment_types:\n",
    "        for medical_dataset in list_of_medical_datasets:\n",
    "            if check_if_experiment_exists(full_df,experiment, medical_dataset):\n",
    "                column_name = experiment + \" \" + medical_dataset\n",
    "                column_names.append(column_name)\n",
    "            else:\n",
    "                raise KeyError('Problem with the lists given, some combinations do not give valid column names')\n",
    "    if imagenet:\n",
    "        column_names.append(\"imagenet top1\")\n",
    "    if sns_utils:\n",
    "        column_names.append(\"Models\")\n",
    "        column_names.append(\"Model Type\")\n",
    "        column_names.append(\"Marker Size\")\n",
    "    column_names = get_few_shot_uncertainty(full_df,list_of_experiment_types, list_of_medical_datasets, column_names)\n",
    "    #print(full_df)\n",
    "    new_df = extract_cleaned_dataframe(full_df, column_names)\n",
    "    #print(new_df)\n",
    "    return new_df  \n",
    "\n",
    "def normalize_list(a_list):\n",
    "    min_val = min(a_list)\n",
    "    max_val = max(a_list)\n",
    "    for i in range(len(a_list)):\n",
    "        a_list[i] = (a_list[i]-min_val)/(max_val-min_val)\n",
    "    return a_list, 1/(max_val-min_val)"
   ]
  },
  {
   "cell_type": "code",
   "execution_count": 44,
   "metadata": {},
   "outputs": [
    {
     "name": "stdout",
     "output_type": "stream",
     "text": [
      "     Model Type  average performance         domain\n",
      "0           SSL             0.494741      In Domain\n",
      "1           SSL             0.528201      In Domain\n",
      "2           SSL             0.523146      In Domain\n",
      "3           SSL             0.679983      In Domain\n",
      "4           SSL             0.546108      In Domain\n",
      "5    Supervised             0.353836      In Domain\n",
      "6    Supervised             0.413512      In Domain\n",
      "7    Supervised             0.449036      In Domain\n",
      "8   Medical SSL             0.727830      In Domain\n",
      "9   Medical SSL             0.826163      In Domain\n",
      "10  Medical SSL             0.691890      In Domain\n",
      "11  Medical SSL             0.250422      In Domain\n",
      "12  Medical SSL             0.354841      In Domain\n",
      "13          SSL             0.831140  Out of Domain\n",
      "14          SSL             0.876244  Out of Domain\n",
      "15          SSL             0.909330  Out of Domain\n",
      "16          SSL             0.916952  Out of Domain\n",
      "17          SSL             0.848290  Out of Domain\n",
      "18   Supervised             0.813345  Out of Domain\n",
      "19   Supervised             0.807556  Out of Domain\n",
      "20   Supervised             0.904813  Out of Domain\n",
      "21  Medical SSL             0.061066  Out of Domain\n",
      "22  Medical SSL             0.218369  Out of Domain\n",
      "23  Medical SSL             0.117026  Out of Domain\n",
      "24  Medical SSL             0.057372  Out of Domain\n",
      "25  Medical SSL             0.374003  Out of Domain\n"
     ]
    }
   ],
   "source": [
    "datasets = [\"Model Type\",\"average performance\",\"domain\"]\n",
    "# IN: scaled few shot shenzhencxr\tscaled few shot montgomerycxr\tscaled few shot chexpert\tscaled few shot chestx (5way)\tscaled linear chexpert\tscaled finetune chexpert\n",
    "# Out: scaled few shot bach\tscaled few shot iChallengeAMD\tscaled few shot iChallengePM\tscaled few shot diabetic retinopathy (5way)\tscaled linear diabetic retinopathy\n",
    "\n",
    "new_df = df.loc[:,tuple(datasets)]\n",
    "new_df.dropna(inplace = True)\n",
    "datasets_v2 = [\"Model Type v2\",\"average performance v2\",\"domain v2\"]\n",
    "# IN: scaled few shot shenzhencxr\tscaled few shot montgomerycxr\tscaled few shot chexpert\tscaled few shot chestx (5way)\tscaled linear chexpert\tscaled finetune chexpert\n",
    "# Out: scaled few shot bach\tscaled few shot iChallengeAMD\tscaled few shot iChallengePM\tscaled few shot diabetic retinopathy (5way)\tscaled linear diabetic retinopathy\n",
    "\n",
    "new_df_v2 = df.loc[:,tuple(datasets_v2)]\n",
    "new_df_v2.dropna(inplace = True)\n",
    "datasets_v3 = [\"Model Type v3\",\"average performance v3\",\"domain v3\"]\n",
    "# IN: scaled few shot shenzhencxr\tscaled few shot montgomerycxr\tscaled few shot chexpert\tscaled few shot chestx (5way)\tscaled linear chexpert\tscaled finetune chexpert\n",
    "# Out: scaled few shot bach\tscaled few shot iChallengeAMD\tscaled few shot iChallengePM\tscaled few shot diabetic retinopathy (5way)\tscaled linear diabetic retinopathy\n",
    "\n",
    "new_df_v3 = df.loc[:,tuple(datasets_v3)]\n",
    "\n",
    "print(new_df)\n"
   ]
  },
  {
   "cell_type": "code",
   "execution_count": 40,
   "metadata": {},
   "outputs": [
    {
     "data": {
      "image/png": "[encoded data removed]",
      "text/plain": [
       "<Figure size 537.725x432 with 1 Axes>"
      ]
     },
     "metadata": {},
     "output_type": "display_data"
    }
   ],
   "source": [
    "sns.set_theme(style=\"whitegrid\")\n",
    "\n",
    "# Draw a nested barplot by species and sex\n",
    "g = sns.catplot(\n",
    "    data=new_df, kind=\"bar\",\n",
    "    x=\"domain\", y=\"average performance\", hue=\"Model Type\",\n",
    "    ci=\"sd\", palette=\"dark\", alpha=.6, height=6\n",
    ")\n",
    "g.despine(left=True)\n",
    "g.set_axis_labels(\"\", \"Scaled Performance\")\n",
    "g.legend.set_title(\"\")"
   ]
  },
  {
   "cell_type": "code",
   "execution_count": 41,
   "metadata": {},
   "outputs": [
    {
     "data": {
      "image/png": "[encoded data removed]",
      "text/plain": [
       "<Figure size 537.725x432 with 1 Axes>"
      ]
     },
     "metadata": {},
     "output_type": "display_data"
    }
   ],
   "source": [
    "sns.set_theme(style=\"whitegrid\")\n",
    "\n",
    "# Draw a nested barplot by species and sex\n",
    "g = sns.catplot(\n",
    "    data=new_df_v2, kind=\"bar\",\n",
    "    x=\"domain v2\", y=\"average performance v2\", hue=\"Model Type v2\",\n",
    "    ci=\"sd\", palette=\"dark\", alpha=.6, height=6\n",
    ")\n",
    "g.despine(left=True)\n",
    "g.set_axis_labels(\"\", \"Scaled Performance\")\n",
    "g.legend.set_title(\"\")"
   ]
  },
  {
   "cell_type": "code",
   "execution_count": 42,
   "metadata": {},
   "outputs": [
    {
     "data": {
      "image/png": "[encoded data removed]",
      "text/plain": [
       "<Figure size 533.225x432 with 1 Axes>"
      ]
     },
     "metadata": {},
     "output_type": "display_data"
    }
   ],
   "source": [
    "sns.set_theme(style=\"whitegrid\")\n",
    "\n",
    "# Draw a nested barplot by species and sex\n",
    "g = sns.catplot(\n",
    "    data=new_df_v3, kind=\"bar\",\n",
    "    x=\"domain v3\", y=\"average performance v3\", hue=\"Model Type v3\",\n",
    "    ci=\"sd\", palette=\"dark\", alpha=.6, height=6\n",
    ")\n",
    "g.despine(left=True)\n",
    "g.set_axis_labels(\"\", \"Scaled Performance\")\n",
    "g.legend.set_title(\"\")"
   ]
  }
 ],
 "metadata": {
  "interpreter": {
   "hash": "38ed0a01b9d97716726e9cd3f87e8e2f5359d3b8cd97e291b7bd0171c939e2c8"
  },
  "kernelspec": {
   "display_name": "Python 3.8.10 ('ssl_venv')",
   "language": "python",
   "name": "python3"
  },
  "language_info": {
   "codemirror_mode": {
    "name": "ipython",
    "version": 3
   },
   "file_extension": ".py",
   "mimetype": "text/x-python",
   "name": "python",
   "nbconvert_exporter": "python",
   "pygments_lexer": "ipython3",
   "version": "3.8.10"
  },
  "orig_nbformat": 4
 },
 "nbformat": 4,
 "nbformat_minor": 2
}
