{
 "cells": [
  {
   "cell_type": "code",
   "execution_count": 1,
   "metadata": {},
   "outputs": [],
   "source": [
    "import numpy as np\n",
    "import plotly.express as px\n",
    "import plotly.graph_objects as go\n",
    "from plotly.subplots import make_subplots\n",
    "import pandas as pd\n",
    "import os"
   ]
  },
  {
   "cell_type": "code",
   "execution_count": 2,
   "metadata": {},
   "outputs": [
    {
     "name": "stdout",
     "output_type": "stream",
     "text": [
      "Index(['Models', 'few-shot Shenzhen-CXR', 'few-shot Shenzhen-CXR uncertainty',\n",
      "       'few-shot Montgomery-CXR', 'few-shot Montgomery-CXR uncertainty',\n",
      "       'few-shot BACH', 'few-shot BACH uncertainty', 'few-shot iChallenge-AMD',\n",
      "       'few-shot iChallenge-AMD uncertainty', 'few-shot iChallenge-PM',\n",
      "       ...\n",
      "       'scaled few-shot iChallenge-AMD v10',\n",
      "       'scaled few-shot iChallenge-PM v10', 'scaled few-shot CheXpert v10',\n",
      "       'scaled few-shot STOIC v10', 'scaled few-shot EyePACS (5way) v10',\n",
      "       'scaled few-shot ChestX-ray14 (5way) v10', 'scaled linear CheXpert v10',\n",
      "       'scaled linear EyePACS v10', 'scaled finetune CheXpert v10',\n",
      "       'average.1'],\n",
      "      dtype='object', length=305)\n"
     ]
    }
   ],
   "source": [
    "# Load in csv file\n",
    "path_to_ssl = '/mnt/c/PythonScripts/segp/transfer_data/'\n",
    "relative_path = 'holder/scaled_catplot_box_full_data.csv'\n",
    "fpath = '/Users/Wan Hee/Desktop/My SSL/scaled_catplot_box_full_data.csv'\n",
    "df = pd.read_csv(fpath, index_col = False)\n",
    "print(df.columns)"
   ]
  },
  {
   "cell_type": "code",
   "execution_count": 3,
   "metadata": {},
   "outputs": [
    {
     "name": "stdout",
     "output_type": "stream",
     "text": [
      "[0.7918284  0.61806264 0.34801902 0.33125721 0.56683761 0.67060998\n",
      " 0.92472594 0.82382629 0.9365029  0.94803922 0.74886228 0.85562177\n",
      " 0.82232249 0.3427673 ]\n"
     ]
    }
   ],
   "source": [
    "datasets = [\"Models avg\",\"scaled few-shot Shenzhen-CXR avg\",\n",
    "    \"scaled few-shot Montgomery-CXR avg\",\t\"scaled few-shot CheXpert avg\",\t\"scaled few-shot ChestX-ray14 (5way) avg\",\t\"scaled linear CheXpert avg\",\t\"scaled finetune CheXpert avg\",\"scaled few-shot BACH avg\",\"scaled few-shot iChallenge-AMD avg\",\"scaled few-shot iChallenge-PM avg\",\"scaled few-shot EyePACS (5way) avg\",\"scaled linear EyePACS avg\",\"scaled few-shot CIFAR10 (2way) avg\",\"scaled few-shot CIFAR10 (5way) avg\",\"scaled few-shot STOIC avg\"]\n",
    "# IN: scaled few-shot shenzhencxr\tscaled few-shot montgomerycxr\tscaled few-shot chexpert\tscaled few-shot chestx (5way)\tscaled linear chexpert\tscaled finetune chexpert\n",
    "# Out: scaled few-shot bach\tscaled few-shot iChallengeAMD\tscaled few-shot iChallengePM\tscaled few-shot EyePACS (5way)\tscaled linear EyePACS\n",
    "datasets_minus_models = [\"few-shot Shenzhen-CXR\",\"few-shot Montgomery-CXR\", \"few-shot BACH\", \"few-shot iChallenge-AMD\",\"few-shot iChallenge-PM\", \"few-shot CheXpert\", \"few-shot STOIC\",\"few-shot EyePACS (5way)\",\"few-shot ChestX-ray14 (5way)\",  \"linear CheXpert\",  \"linear EyePACS\", \"finetune CheXpert\"]\n",
    "fewshot_df = df.loc[:,tuple(datasets)]\n",
    "fewshot_df.dropna(inplace = True)\n",
    "\n",
    "def select_row(df,model):\n",
    "    row = df.loc[df[\"Models avg\"] == model]\n",
    "    row = row.drop('Models avg', axis=1)\n",
    "    #print(row)\n",
    "    return row.values[0]\n",
    "\n",
    "print(select_row(fewshot_df, \"SSL\"))"
   ]
  },
  {
   "cell_type": "code",
   "execution_count": 4,
   "metadata": {},
   "outputs": [],
   "source": [
    "fig = go.Figure()\n",
    "fig.add_trace(go.Scatterpolar(\n",
    "    r = select_row(fewshot_df, \"SSL\"), \n",
    "    theta = datasets_minus_models,\n",
    "    fill='toself',\n",
    "    name='SSL',\n",
    "    fillcolor='blue',\n",
    "    opacity=0.4,\n",
    "    marker_color='blue',\n",
    "))\n",
    "fig.add_trace(go.Scatterpolar(\n",
    "    r = select_row(fewshot_df, \"Supervised\"), \n",
    "    theta = datasets_minus_models,\n",
    "    fill='toself',\n",
    "    name='Supervised',\n",
    "    fillcolor='green',\n",
    "    opacity=0.3,\n",
    "    marker_color='green',\n",
    "))\n",
    "fig.add_trace(go.Scatterpolar(\n",
    "    r = select_row(fewshot_df, \"Medical SSL\"), \n",
    "    theta = datasets_minus_models,\n",
    "    fill='toself',\n",
    "    name='Medical SSL',\n",
    "    fillcolor='red',\n",
    "    opacity=0.5,\n",
    "    marker_color='red',\n",
    "))\n",
    "fig.update_layout(\n",
    "  polar=dict(\n",
    "    radialaxis=dict(\n",
    "      visible=False,\n",
    "      range=[0, 1],\n",
    "    ),\n",
    "  ),\n",
    "  showlegend=True,\n",
    ")\n",
    "fig.write_image('wan/test_check.png')"
   ]
  },
  {
   "cell_type": "code",
   "execution_count": null,
   "metadata": {},
   "outputs": [
    {
     "name": "stdout",
     "output_type": "stream",
     "text": [
      "[0.69214502 0.39515571 0.55698925 0.51423948 0.48632479 0.61169916\n",
      " 0.5        0.79809524 0.51050584 0.92625698 0.40846262 0.56956522\n",
      " 0.49528302]\n"
     ]
    }
   ],
   "source": [
    "datasets = [\"Models avg\",\"scaledv2 few-shot Shenzhen-CXR avg\",\"scaledv2 few-shot Montgomery-CXR avg\",\"scaledv2 few-shot BACH avg\",\"scaledv2 few-shot iChallenge-AMD avg\",\"scaledv2 few-shot iChallenge-PM avg\",\"scaledv2 few-shot CheXpert avg\",\"scaledv2 few-shot STOIC avg\",\"scaledv2 few-shot EyePACS (5way) avg\",\"scaledv2 few-shot ChestX-ray14 (5way) avg\",\"scaledv2 linear CheXpert avg\",\"scaledv2 linear EyePACS avg\",\"scaledv2 finetune CheXpert avg\",\"scaledv2 finetune EyePACS avg\"]\n",
    "# IN: scaled few-shot shenzhencxr\tscaled few-shot montgomerycxr\tscaled few-shot chexpert\tscaled few-shot chestx (5way)\tscaled linear chexpert\tscaled finetune chexpert\n",
    "# Out: scaled few-shot bach\tscaled few shot iChallengeAMD\tscaled few-shot iChallengePM\tscaled few-shot EyePACS (5way)\tscaled linear EyePACS\n",
    "datasets_minus_models = [\"few-shot Shenzhen-CXR\",\"few-shot Montgomery-CXR\",\"few-shot BACH\",\"few-shot iChallenge-AMD\",\"few-shot iChallenge-PM\",\"few-shot CheXpert\",\"few-shot STOIC\",\"few-shot EyePACS(5way)\",\"few-shot ChestX-ray14(5way)\",\"linear CheXpert\",\"linear EyePACS\",\"finetune CheXpert\",\"finetune EyePACS\"]\n",
    "#print(df.columns)\n",
    "    \n",
    "fewshot_df = df.loc[:,tuple(datasets)]\n",
    "fewshot_df.dropna(inplace = True)\n",
    "\n",
    "def select_row(df,model):\n",
    "    row = df.loc[df[\"Models avg\"] == model]\n",
    "    row = row.drop('Models avg', axis=1)\n",
    "    #print(row)\n",
    "    return row.values[0]\n",
    "\n",
    "print(select_row(fewshot_df, \"SSL\"))"
   ]
  },
  {
   "cell_type": "code",
   "execution_count": null,
   "metadata": {},
   "outputs": [],
   "source": [
    "fig = go.Figure()\n",
    "fig.add_trace(go.Scatterpolar(\n",
    "    r = select_row(fewshot_df, \"SSL\"), \n",
    "    theta = datasets_minus_models,\n",
    "    fill='toself',\n",
    "    name='SSL',\n",
    "    fillcolor='blue',\n",
    "    opacity=0.4,\n",
    "    marker_color='blue',\n",
    "))\n",
    "fig.add_trace(go.Scatterpolar(\n",
    "    r = select_row(fewshot_df, \"Supervised\"), \n",
    "    theta = datasets_minus_models,\n",
    "    fill='toself',\n",
    "    name='Supervised',\n",
    "    fillcolor='green',\n",
    "    opacity=0.3,\n",
    "    marker_color='green',\n",
    "))\n",
    "# fig.add_trace(go.Scatterpolar(\n",
    "#     r = select_row(fewshot_df, \"Medical SSL\"), \n",
    "#     theta = datasets_minus_models,\n",
    "#     fill='toself',\n",
    "#     name='Medical SSL',\n",
    "#     fillcolor='red',\n",
    "#     opacity=0.5,\n",
    "#     marker_color='red',\n",
    "# ))\n",
    "fig.update_layout(\n",
    "  polar=dict(\n",
    "    radialaxis=dict(\n",
    "      visible=False,\n",
    "      range=[0, 1],\n",
    "    ),\n",
    "  ),\n",
    "  showlegend=True,\n",
    ")\n",
    "#fig.show()\n",
    "fig.write_image('wan/radar_plots/test_check_2.png')"
   ]
  },
  {
   "cell_type": "code",
   "execution_count": null,
   "metadata": {},
   "outputs": [
    {
     "name": "stdout",
     "output_type": "stream",
     "text": [
      "[0.19506173 0.42851257 0.27128157 0.22882883 0.5302391  0.23125997\n",
      " 0.42204301 0.89831933 0.95693964 0.90660592 0.67552602 0.91764706]\n"
     ]
    }
   ],
   "source": [
    "datasets = [\"model types medical ssl\",\"scaled medical linear EyePACS\",\"scaled medical few-shot iChallenge-AMD\",\n",
    "\"scaled medical few-shot iChallenge-PM\",\"scaled medical few-shot EyePACS (5way)\",\"scaled medical few-shot BACH\",\n",
    "\"scaled medical few-shot STOIC\",\"scaled medical few-shot Shenzhen-CXR\",\"scaled medical few-shot Montgomery-CXR\",\n",
    "\"scaled medical few-shot ChestX-ray14 (5way)\",\"scaled medical few-shot Chexpert\",\n",
    "\"scaled medical linear CheXpert\",\"scaled medical finetune CheXpert\"]\n",
    "\n",
    " \n",
    "datasets_minus_models = [\"scaled medical linear EyePACS\",\"scaled medical few-shot iChallengeAMD\",\n",
    "\"scaled medical few-shot iChallengePM\",\"scaled medical few-shot EyePACS (5way)\",\"scaled medical few-shot BACH\",\n",
    "\"scaled medical few-shot STOIC\",\"scaled medical few-shot Shenzhen-CXR\",\"scaled medical few-shot Montgomery-CXR\",\n",
    "\"scaled medical few-shot ChestX-ray14 (5way)\",\"scaled medical few-shot CheXpert\",\n",
    "\"scaled medical linear CheXpert\",\"scaled medical finetune CheXpert\"]\n",
    "for i in range(len(datasets_minus_models)):\n",
    "    datasets_minus_models[i] = datasets_minus_models[i][15:]\n",
    "fewshot_df = df.loc[:,tuple(datasets)]\n",
    "fewshot_df.dropna(inplace = True)\n",
    "\n",
    "def select_row(df,model):\n",
    "    row = df.loc[df[\"model types medical ssl\"] == model]\n",
    "    row = row.drop('model types medical ssl', axis=1)\n",
    "    #print(row)\n",
    "    return row.values[0]\n",
    "\n",
    "print(select_row(fewshot_df, \"MIMIC-CheXpert\"))"
   ]
  },
  {
   "cell_type": "code",
   "execution_count": null,
   "metadata": {},
   "outputs": [],
   "source": [
    "fig = go.Figure()\n",
    "fig.add_trace(go.Scatterpolar(\n",
    "    r = select_row(fewshot_df, \"MIMIC-CheXpert\"), \n",
    "    theta = datasets_minus_models,\n",
    "    fill='toself',\n",
    "    name='MIMIC-CheXper',\n",
    "    fillcolor='blue',\n",
    "    opacity=0.4,\n",
    "    marker_color='blue',\n",
    "))\n",
    "fig.add_trace(go.Scatterpolar(\n",
    "    r = select_row(fewshot_df, \"MoCo-CXR\"), \n",
    "    theta = datasets_minus_models,\n",
    "    fill='toself',\n",
    "    name='MoCo-CXR',\n",
    "    fillcolor='green',\n",
    "    opacity=0.3,\n",
    "    marker_color='green',\n",
    "))\n",
    "fig.update_layout(\n",
    "  polar=dict(\n",
    "    radialaxis=dict(\n",
    "      visible=False,\n",
    "      range=[0, 1],\n",
    "    ),\n",
    "  ),\n",
    "  showlegend=True,\n",
    ")\n",
    "#fig.show()\n",
    "fig.write_image('wan/radar_plots/average_moco_vs_mimic_chexpert.png')"
   ]
  },
  {
   "cell_type": "code",
   "execution_count": null,
   "metadata": {},
   "outputs": [],
   "source": [
    "fig = go.Figure()\n",
    "fig.add_trace(go.Scatterpolar(\n",
    "    r = select_row(fewshot_df, \"mimic-chexpert lr=0.1\"), \n",
    "    theta = datasets_minus_models,\n",
    "    fill='toself',\n",
    "    name='MIMIC-CheXpert (0.1)',\n",
    "    fillcolor='blue',\n",
    "    opacity=0.4,\n",
    "    marker_color='blue',\n",
    "))\n",
    "fig.add_trace(go.Scatterpolar(\n",
    "    r = select_row(fewshot_df, \"mimic-cxr d121\"), \n",
    "    theta = datasets_minus_models,\n",
    "    fill='toself',\n",
    "    name='MoCo-CXR (d121)',\n",
    "    fillcolor='green',\n",
    "    opacity=0.3,\n",
    "    marker_color='green',\n",
    "))\n",
    "fig.update_layout(\n",
    "  polar=dict(\n",
    "    radialaxis=dict(\n",
    "      visible=False,\n",
    "      range=[0, 1],\n",
    "    ),\n",
    "  ),\n",
    "  showlegend=True,\n",
    ")\n",
    "#fig.show()\n",
    "fig.write_image('wan/radar_plots/best_performing_moco_vs_mimic_chexpert.png')"
   ]
  }
 ],
 "metadata": {
  "interpreter": {
   "hash": "38ed0a01b9d97716726e9cd3f87e8e2f5359d3b8cd97e291b7bd0171c939e2c8"
  },
  "kernelspec": {
   "display_name": "Python 3.8.10 ('ssl_venv')",
   "language": "python",
   "name": "python3"
  },
  "language_info": {
   "codemirror_mode": {
    "name": "ipython",
    "version": 3
   },
   "file_extension": ".py",
   "mimetype": "text/x-python",
   "name": "python",
   "nbconvert_exporter": "python",
   "pygments_lexer": "ipython3",
   "version": "3.10.2"
  },
  "orig_nbformat": 4
 },
 "nbformat": 4,
 "nbformat_minor": 2
}
