{
 "cells": [
  {
   "cell_type": "code",
   "execution_count": 29,
   "metadata": {},
   "outputs": [],
   "source": [
    "import numpy as np\n",
    "import plotly.express as px\n",
    "import plotly.graph_objects as go\n",
    "from plotly.subplots import make_subplots\n",
    "import pandas as pd\n",
    "import os"
   ]
  },
  {
   "cell_type": "code",
   "execution_count": 30,
   "metadata": {},
   "outputs": [
    {
     "name": "stdout",
     "output_type": "stream",
     "text": [
      "Index(['Models', 'few shot shenzhencxr', 'few shot shenzhencxr uncertainty',\n",
      "       'few shot montgomerycxr', 'few shot montgomerycxr uncertainty',\n",
      "       'few shot bach', 'few shot bach uncertainty', 'few shot iChallengeAMD',\n",
      "       'few shot iChallengeAMD uncertainty', 'few shot iChallengePM',\n",
      "       ...\n",
      "       'scaled medical few shot diabetic retinopathy (5way) uncertainty',\n",
      "       'scaled medical few shot chestx (5way)',\n",
      "       'scaled medical few shot chestx (5way) uncertainty',\n",
      "       'scaled medical few shot cifar10 (2way)',\n",
      "       'scaled medical few shot cifar10 (2way) uncertainty',\n",
      "       'scaled medical few shot cifar10 (5way)',\n",
      "       'scaled medical few shot cifar10 (5way) uncertainty',\n",
      "       'scaled medical linear chexpert',\n",
      "       'scaled medical linear diabetic retinopathy',\n",
      "       'scaled medical finetune chexpert'],\n",
      "      dtype='object', length=236)\n"
     ]
    }
   ],
   "source": [
    "# Load in csv file\n",
    "path_to_ssl = '/mnt/c/PythonScripts/segp/transfer_data/'\n",
    "relative_path = 'holder/scaled_catplot_box_full_data.csv'\n",
    "fpath = path_to_ssl + relative_path\n",
    "df = pd.read_csv(fpath, index_col = False)\n",
    "print(df.columns)"
   ]
  },
  {
   "cell_type": "code",
   "execution_count": 31,
   "metadata": {},
   "outputs": [
    {
     "name": "stdout",
     "output_type": "stream",
     "text": [
      "[0.7918284  0.61806264 0.34801902 0.33125721 0.56683761 0.67060998\n",
      " 0.92472594 0.82382629 0.9365029  0.94803922 0.74886228 0.85562177\n",
      " 0.82232249 0.3427673 ]\n"
     ]
    }
   ],
   "source": [
    "datasets = [\"Models avg\",\"scaled few shot shenzhencxr avg\",\n",
    "    \"scaled few shot montgomerycxr avg\",\t\"scaled few shot chexpert avg\",\t\"scaled few shot chestx (5way) avg\",\t\"scaled linear chexpert avg\",\t\"scaled finetune chexpert avg\",\"scaled few shot bach avg\",\"scaled few shot iChallengeAMD avg\",\"scaled few shot iChallengePM avg\",\"scaled few shot diabetic retinopathy (5way) avg\",\"scaled linear diabetic retinopathy avg\",\"scaled few shot cifar10 (2way) avg\",\"scaled few shot cifar10 (5way) avg\",\"scaled few shot stoic avg\"]\n",
    "# IN: scaled few shot shenzhencxr\tscaled few shot montgomerycxr\tscaled few shot chexpert\tscaled few shot chestx (5way)\tscaled linear chexpert\tscaled finetune chexpert\n",
    "# Out: scaled few shot bach\tscaled few shot iChallengeAMD\tscaled few shot iChallengePM\tscaled few shot diabetic retinopathy (5way)\tscaled linear diabetic retinopathy\n",
    "datasets_minus_models = [\"scaled few shot shenzhencxr\",\"scaled few shot montgomerycxr\",\t\"scaled few shot chexpert\",\t\"scaled few shot chestx (5way)\",\t\"scaled linear chexpert\",\t\"scaled finetune chexpert\",\"scaled few shot bach\",\"scaled few shot iChallengeAMD\",\"scaled few shot iChallengePM\",\"scaled few shot diabetic retinopathy (5way)\",\"scaled linear diabetic retinopathy\",\"scaled few shot cifar10 (2way)\",\"scaled few shot cifar10 (5way)\",\"scaled few shot stoic\"]\n",
    "fewshot_df = df.loc[:,tuple(datasets)]\n",
    "fewshot_df.dropna(inplace = True)\n",
    "\n",
    "def select_row(df,model):\n",
    "    row = df.loc[df[\"Models avg\"] == model]\n",
    "    row = row.drop('Models avg', axis=1)\n",
    "    #print(row)\n",
    "    return row.values[0]\n",
    "\n",
    "print(select_row(fewshot_df, \"SSL\"))"
   ]
  },
  {
   "cell_type": "code",
   "execution_count": 32,
   "metadata": {},
   "outputs": [],
   "source": [
    "fig = go.Figure()\n",
    "fig.add_trace(go.Scatterpolar(\n",
    "    r = select_row(fewshot_df, \"SSL\"), \n",
    "    theta = datasets_minus_models,\n",
    "    fill='toself',\n",
    "    name='SSL',\n",
    "    fillcolor='blue',\n",
    "    opacity=0.4,\n",
    "    marker_color='blue',\n",
    "))\n",
    "fig.add_trace(go.Scatterpolar(\n",
    "    r = select_row(fewshot_df, \"Supervised\"), \n",
    "    theta = datasets_minus_models,\n",
    "    fill='toself',\n",
    "    name='Supervised',\n",
    "    fillcolor='green',\n",
    "    opacity=0.3,\n",
    "    marker_color='green',\n",
    "))\n",
    "fig.add_trace(go.Scatterpolar(\n",
    "    r = select_row(fewshot_df, \"Medical SSL\"), \n",
    "    theta = datasets_minus_models,\n",
    "    fill='toself',\n",
    "    name='Medical SSL',\n",
    "    fillcolor='red',\n",
    "    opacity=0.5,\n",
    "    marker_color='red',\n",
    "))\n",
    "fig.update_layout(\n",
    "  polar=dict(\n",
    "    radialaxis=dict(\n",
    "      visible=False,\n",
    "      range=[0, 1],\n",
    "    ),\n",
    "  ),\n",
    "  showlegend=True,\n",
    ")\n",
    "#fig.show()\n",
    "fig.write_image('radar_plots/test_check.png')"
   ]
  },
  {
   "cell_type": "code",
   "execution_count": 33,
   "metadata": {},
   "outputs": [
    {
     "name": "stdout",
     "output_type": "stream",
     "text": [
      "[0.69214502 0.39515571 0.55698925 0.51423948 0.48632479 0.61169916\n",
      " 0.5        0.79809524 0.51050584 0.92625698 0.40846262 0.56956522\n",
      " 0.49528302]\n"
     ]
    }
   ],
   "source": [
    "datasets = [\"Models avg\",\"scaledv2 few shot shenzhencxr avg\",\"scaledv2 few shot montgomerycxr avg\",\"scaledv2 few shot bach avg\",\"scaledv2 few shot iChallengeAMD avg\",\"scaledv2 few shot iChallengePM avg\",\"scaledv2 few shot chexpert avg\",\"scaledv2 few shot stoic avg\",\"scaledv2 few shot diabetic retinopathy (5way) avg\",\"scaledv2 few shot chestx (5way) avg\",\"scaledv2 linear chexpert avg\",\"scaledv2 linear diabetic retinopathy avg\",\"scaledv2 finetune chexpert avg\",\"scaledv2 finetune diabetic retinopathy avg\"]\n",
    "# IN: scaled few shot shenzhencxr\tscaled few shot montgomerycxr\tscaled few shot chexpert\tscaled few shot chestx (5way)\tscaled linear chexpert\tscaled finetune chexpert\n",
    "# Out: scaled few shot bach\tscaled few shot iChallengeAMD\tscaled few shot iChallengePM\tscaled few shot diabetic retinopathy (5way)\tscaled linear diabetic retinopathy\n",
    "datasets_minus_models = [\"few shot shenzhencxr\",\"few shot montgomerycxr\",\"few shot bach\",\"few shot iChallengeAMD\",\"few shot iChallengePM\",\"few shot chexpert\",\"few shot stoic\",\"few shot diabetic retinopathy (5way)\",\"few shot chestx (5way)\",\"linear chexpert\",\"linear diabetic retinopathy\",\"finetune chexpert\",\"finetune diabetic retinopathy\"]\n",
    "#print(df.columns)\n",
    "    \n",
    "fewshot_df = df.loc[:,tuple(datasets)]\n",
    "fewshot_df.dropna(inplace = True)\n",
    "\n",
    "def select_row(df,model):\n",
    "    row = df.loc[df[\"Models avg\"] == model]\n",
    "    row = row.drop('Models avg', axis=1)\n",
    "    #print(row)\n",
    "    return row.values[0]\n",
    "\n",
    "print(select_row(fewshot_df, \"SSL\"))"
   ]
  },
  {
   "cell_type": "code",
   "execution_count": 34,
   "metadata": {},
   "outputs": [],
   "source": [
    "fig = go.Figure()\n",
    "fig.add_trace(go.Scatterpolar(\n",
    "    r = select_row(fewshot_df, \"SSL\"), \n",
    "    theta = datasets_minus_models,\n",
    "    fill='toself',\n",
    "    name='SSL',\n",
    "    fillcolor='blue',\n",
    "    opacity=0.4,\n",
    "    marker_color='blue',\n",
    "))\n",
    "fig.add_trace(go.Scatterpolar(\n",
    "    r = select_row(fewshot_df, \"Supervised\"), \n",
    "    theta = datasets_minus_models,\n",
    "    fill='toself',\n",
    "    name='Supervised',\n",
    "    fillcolor='green',\n",
    "    opacity=0.3,\n",
    "    marker_color='green',\n",
    "))\n",
    "# fig.add_trace(go.Scatterpolar(\n",
    "#     r = select_row(fewshot_df, \"Medical SSL\"), \n",
    "#     theta = datasets_minus_models,\n",
    "#     fill='toself',\n",
    "#     name='Medical SSL',\n",
    "#     fillcolor='red',\n",
    "#     opacity=0.5,\n",
    "#     marker_color='red',\n",
    "# ))\n",
    "fig.update_layout(\n",
    "  polar=dict(\n",
    "    radialaxis=dict(\n",
    "      visible=False,\n",
    "      range=[0, 1],\n",
    "    ),\n",
    "  ),\n",
    "  showlegend=True,\n",
    ")\n",
    "#fig.show()\n",
    "fig.write_image('radar_plots/test_check_2.png')"
   ]
  },
  {
   "cell_type": "code",
   "execution_count": 38,
   "metadata": {},
   "outputs": [
    {
     "name": "stdout",
     "output_type": "stream",
     "text": [
      "[0.19506173 0.42851257 0.27128157 0.22882883 0.5302391  0.23125997\n",
      " 0.42204301 0.89831933 0.95693964 0.90660592 0.67552602 0.91764706]\n"
     ]
    }
   ],
   "source": [
    "datasets = [\"model types medical ssl\",\"scaled medical linear diabetic retinopathy\",\"scaled medical few shot iChallengeAMD\",\n",
    "\"scaled medical few shot iChallengePM\",\"scaled medical few shot diabetic retinopathy (5way)\",\"scaled medical few shot bach\",\n",
    "\"scaled medical few shot stoic\",\"scaled medical few shot shenzhencxr\",\"scaled medical few shot montgomerycxr\",\n",
    "\"scaled medical few shot chestx (5way)\",\"scaled medical few shot chexpert\",\n",
    "\"scaled medical linear chexpert\",\"scaled medical finetune chexpert\"]\n",
    "\n",
    " \n",
    "datasets_minus_models = [\"scaled medical linear diabetic retinopathy\",\"scaled medical few shot iChallengeAMD\",\n",
    "\"scaled medical few shot iChallengePM\",\"scaled medical few shot diabetic retinopathy (5way)\",\"scaled medical few shot bach\",\n",
    "\"scaled medical few shot stoic\",\"scaled medical few shot shenzhencxr\",\"scaled medical few shot montgomerycxr\",\n",
    "\"scaled medical few shot chestx (5way)\",\"scaled medical few shot chexpert\",\n",
    "\"scaled medical linear chexpert\",\"scaled medical finetune chexpert\"]\n",
    "for i in range(len(datasets_minus_models)):\n",
    "    datasets_minus_models[i] = datasets_minus_models[i][15:]\n",
    "fewshot_df = df.loc[:,tuple(datasets)]\n",
    "fewshot_df.dropna(inplace = True)\n",
    "\n",
    "def select_row(df,model):\n",
    "    row = df.loc[df[\"model types medical ssl\"] == model]\n",
    "    row = row.drop('model types medical ssl', axis=1)\n",
    "    #print(row)\n",
    "    return row.values[0]\n",
    "\n",
    "print(select_row(fewshot_df, \"MIMIC-CheXpert\"))"
   ]
  },
  {
   "cell_type": "code",
   "execution_count": 39,
   "metadata": {},
   "outputs": [],
   "source": [
    "fig = go.Figure()\n",
    "fig.add_trace(go.Scatterpolar(\n",
    "    r = select_row(fewshot_df, \"MIMIC-CheXpert\"), \n",
    "    theta = datasets_minus_models,\n",
    "    fill='toself',\n",
    "    name='MIMIC-CheXper',\n",
    "    fillcolor='blue',\n",
    "    opacity=0.4,\n",
    "    marker_color='blue',\n",
    "))\n",
    "fig.add_trace(go.Scatterpolar(\n",
    "    r = select_row(fewshot_df, \"MoCo-CXR\"), \n",
    "    theta = datasets_minus_models,\n",
    "    fill='toself',\n",
    "    name='MoCo-CXR',\n",
    "    fillcolor='green',\n",
    "    opacity=0.3,\n",
    "    marker_color='green',\n",
    "))\n",
    "fig.update_layout(\n",
    "  polar=dict(\n",
    "    radialaxis=dict(\n",
    "      visible=False,\n",
    "      range=[0, 1],\n",
    "    ),\n",
    "  ),\n",
    "  showlegend=True,\n",
    ")\n",
    "#fig.show()\n",
    "fig.write_image('radar_plots/average_moco_vs_mimic_chexpert.png')"
   ]
  },
  {
   "cell_type": "code",
   "execution_count": 40,
   "metadata": {},
   "outputs": [],
   "source": [
    "fig = go.Figure()\n",
    "fig.add_trace(go.Scatterpolar(\n",
    "    r = select_row(fewshot_df, \"mimic-chexpert lr=0.1\"), \n",
    "    theta = datasets_minus_models,\n",
    "    fill='toself',\n",
    "    name='MIMIC-CheXpert (0.1)',\n",
    "    fillcolor='blue',\n",
    "    opacity=0.4,\n",
    "    marker_color='blue',\n",
    "))\n",
    "fig.add_trace(go.Scatterpolar(\n",
    "    r = select_row(fewshot_df, \"mimic-cxr d121\"), \n",
    "    theta = datasets_minus_models,\n",
    "    fill='toself',\n",
    "    name='MoCo-CXR (d121)',\n",
    "    fillcolor='green',\n",
    "    opacity=0.3,\n",
    "    marker_color='green',\n",
    "))\n",
    "fig.update_layout(\n",
    "  polar=dict(\n",
    "    radialaxis=dict(\n",
    "      visible=False,\n",
    "      range=[0, 1],\n",
    "    ),\n",
    "  ),\n",
    "  showlegend=True,\n",
    ")\n",
    "#fig.show()\n",
    "fig.write_image('radar_plots/best_performing_moco_vs_mimic_chexpert.png')"
   ]
  }
 ],
 "metadata": {
  "interpreter": {
   "hash": "38ed0a01b9d97716726e9cd3f87e8e2f5359d3b8cd97e291b7bd0171c939e2c8"
  },
  "kernelspec": {
   "display_name": "Python 3.8.10 ('ssl_venv')",
   "language": "python",
   "name": "python3"
  },
  "language_info": {
   "codemirror_mode": {
    "name": "ipython",
    "version": 3
   },
   "file_extension": ".py",
   "mimetype": "text/x-python",
   "name": "python",
   "nbconvert_exporter": "python",
   "pygments_lexer": "ipython3",
   "version": "3.8.10"
  },
  "orig_nbformat": 4
 },
 "nbformat": 4,
 "nbformat_minor": 2
}
