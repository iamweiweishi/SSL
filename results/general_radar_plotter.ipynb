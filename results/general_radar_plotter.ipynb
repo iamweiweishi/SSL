{
 "cells": [
  {
   "cell_type": "code",
   "execution_count": 18,
   "metadata": {},
   "outputs": [],
   "source": [
    "import numpy as np\n",
    "import plotly.express as px\n",
    "import plotly.graph_objects as go\n",
    "from plotly.subplots import make_subplots\n",
    "import pandas as pd\n",
    "import os"
   ]
  },
  {
   "cell_type": "code",
   "execution_count": 19,
   "metadata": {},
   "outputs": [
    {
     "name": "stdout",
     "output_type": "stream",
     "text": [
      "Index(['Models', 'few shot shenzhencxr', 'few shot shenzhencxr uncertainty',\n",
      "       'few shot montgomerycxr', 'few shot montgomerycxr uncertainty',\n",
      "       'few shot bach', 'few shot bach uncertainty', 'few shot iChallengeAMD',\n",
      "       'few shot iChallengeAMD uncertainty', 'few shot iChallengePM',\n",
      "       ...\n",
      "       'scaledv2 few shot chexpert avg', 'scaledv2 few shot stoic avg',\n",
      "       'scaledv2 few shot diabetic retinopathy (5way) avg',\n",
      "       'scaledv2 few shot chestx (5way) avg',\n",
      "       'scaledv2 few shot cifar10 (2way) avg',\n",
      "       'scaledv2 few shot cifar10 (5way) avg', 'scaledv2 linear chexpert avg',\n",
      "       'scaledv2 linear diabetic retinopathy avg',\n",
      "       'scaledv2 finetune chexpert avg',\n",
      "       'scaledv2 finetune diabetic retinopathy avg'],\n",
      "      dtype='object', length=150)\n"
     ]
    }
   ],
   "source": [
    "# Load in csv file\n",
    "path_to_ssl = '/mnt/c/PythonScripts/segp/github_version/'\n",
    "relative_path = 'SSL/results/scaled_catplot_box_full_data.csv'\n",
    "fpath = path_to_ssl + relative_path\n",
    "df = pd.read_csv(fpath, index_col = False)\n",
    "print(df.columns)"
   ]
  },
  {
   "cell_type": "code",
   "execution_count": 20,
   "metadata": {},
   "outputs": [
    {
     "name": "stdout",
     "output_type": "stream",
     "text": [
      "[0.7918284  0.61806264 0.34801902 0.33125721 0.56683761 0.67060998\n",
      " 0.92472594 0.82382629 0.9365029  0.94803922 0.74886228 0.85562177\n",
      " 0.82232249 0.3427673 ]\n"
     ]
    }
   ],
   "source": [
    "datasets = [\"Models avg\",\"scaled few shot shenzhencxr avg\",\n",
    "    \"scaled few shot montgomerycxr avg\",\t\"scaled few shot chexpert avg\",\t\"scaled few shot chestx (5way) avg\",\t\"scaled linear chexpert avg\",\t\"scaled finetune chexpert avg\",\"scaled few shot bach avg\",\"scaled few shot iChallengeAMD avg\",\"scaled few shot iChallengePM avg\",\"scaled few shot diabetic retinopathy (5way) avg\",\"scaled linear diabetic retinopathy avg\",\"scaled few shot cifar10 (2way) avg\",\"scaled few shot cifar10 (5way) avg\",\"scaled few shot stoic avg\"]\n",
    "# IN: scaled few shot shenzhencxr\tscaled few shot montgomerycxr\tscaled few shot chexpert\tscaled few shot chestx (5way)\tscaled linear chexpert\tscaled finetune chexpert\n",
    "# Out: scaled few shot bach\tscaled few shot iChallengeAMD\tscaled few shot iChallengePM\tscaled few shot diabetic retinopathy (5way)\tscaled linear diabetic retinopathy\n",
    "datasets_minus_models = [\"scaled few shot shenzhencxr\",\"scaled few shot montgomerycxr\",\t\"scaled few shot chexpert\",\t\"scaled few shot chestx (5way)\",\t\"scaled linear chexpert\",\t\"scaled finetune chexpert\",\"scaled few shot bach\",\"scaled few shot iChallengeAMD\",\"scaled few shot iChallengePM\",\"scaled few shot diabetic retinopathy (5way)\",\"scaled linear diabetic retinopathy\",\"scaled few shot cifar10 (2way)\",\"scaled few shot cifar10 (5way)\",\"scaled few shot stoic\"]\n",
    "fewshot_df = df.loc[:,tuple(datasets)]\n",
    "fewshot_df.dropna(inplace = True)\n",
    "\n",
    "def select_row(df,model):\n",
    "    row = df.loc[df[\"Models avg\"] == model]\n",
    "    row = row.drop('Models avg', axis=1)\n",
    "    #print(row)\n",
    "    return row.values[0]\n",
    "\n",
    "print(select_row(fewshot_df, \"SSL\"))"
   ]
  },
  {
   "cell_type": "code",
   "execution_count": 21,
   "metadata": {},
   "outputs": [],
   "source": [
    "fig = go.Figure()\n",
    "fig.add_trace(go.Scatterpolar(\n",
    "    r = select_row(fewshot_df, \"SSL\"), \n",
    "    theta = datasets_minus_models,\n",
    "    fill='toself',\n",
    "    name='SSL',\n",
    "    fillcolor='blue',\n",
    "    opacity=0.4,\n",
    "    marker_color='blue',\n",
    "))\n",
    "fig.add_trace(go.Scatterpolar(\n",
    "    r = select_row(fewshot_df, \"Supervised\"), \n",
    "    theta = datasets_minus_models,\n",
    "    fill='toself',\n",
    "    name='Supervised',\n",
    "    fillcolor='green',\n",
    "    opacity=0.3,\n",
    "    marker_color='green',\n",
    "))\n",
    "fig.add_trace(go.Scatterpolar(\n",
    "    r = select_row(fewshot_df, \"Medical SSL\"), \n",
    "    theta = datasets_minus_models,\n",
    "    fill='toself',\n",
    "    name='Medical SSL',\n",
    "    fillcolor='red',\n",
    "    opacity=0.5,\n",
    "    marker_color='red',\n",
    "))\n",
    "fig.update_layout(\n",
    "  polar=dict(\n",
    "    radialaxis=dict(\n",
    "      visible=False,\n",
    "      range=[0, 1],\n",
    "    ),\n",
    "  ),\n",
    "  showlegend=True,\n",
    ")\n",
    "#fig.show()\n",
    "fig.write_image('radar_plots/test_check.png')"
   ]
  },
  {
   "cell_type": "code",
   "execution_count": 29,
   "metadata": {},
   "outputs": [
    {
     "name": "stdout",
     "output_type": "stream",
     "text": [
      "[0.69214502 0.39515571 0.55698925 0.51423948 0.48632479 0.61169916\n",
      " 0.5        0.79809524 0.51050584 0.92625698 0.40846262 0.56956522\n",
      " 0.49528302]\n"
     ]
    }
   ],
   "source": [
    "datasets = [\"Models avg\",\"scaledv2 few shot shenzhencxr avg\",\"scaledv2 few shot montgomerycxr avg\",\"scaledv2 few shot bach avg\",\"scaledv2 few shot iChallengeAMD avg\",\"scaledv2 few shot iChallengePM avg\",\"scaledv2 few shot chexpert avg\",\"scaledv2 few shot stoic avg\",\"scaledv2 few shot diabetic retinopathy (5way) avg\",\"scaledv2 few shot chestx (5way) avg\",\"scaledv2 linear chexpert avg\",\"scaledv2 linear diabetic retinopathy avg\",\"scaledv2 finetune chexpert avg\",\"scaledv2 finetune diabetic retinopathy avg\"]\n",
    "# IN: scaled few shot shenzhencxr\tscaled few shot montgomerycxr\tscaled few shot chexpert\tscaled few shot chestx (5way)\tscaled linear chexpert\tscaled finetune chexpert\n",
    "# Out: scaled few shot bach\tscaled few shot iChallengeAMD\tscaled few shot iChallengePM\tscaled few shot diabetic retinopathy (5way)\tscaled linear diabetic retinopathy\n",
    "datasets_minus_models = [\"few shot shenzhencxr\",\"few shot montgomerycxr\",\"few shot bach\",\"few shot iChallengeAMD\",\"few shot iChallengePM\",\"few shot chexpert\",\"few shot stoic\",\"few shot diabetic retinopathy (5way)\",\"few shot chestx (5way)\",\"linear chexpert\",\"linear diabetic retinopathy\",\"finetune chexpert\",\"finetune diabetic retinopathy\"]\n",
    "#print(df.columns)\n",
    "    \n",
    "fewshot_df = df.loc[:,tuple(datasets)]\n",
    "fewshot_df.dropna(inplace = True)\n",
    "\n",
    "def select_row(df,model):\n",
    "    row = df.loc[df[\"Models avg\"] == model]\n",
    "    row = row.drop('Models avg', axis=1)\n",
    "    #print(row)\n",
    "    return row.values[0]\n",
    "\n",
    "print(select_row(fewshot_df, \"SSL\"))"
   ]
  },
  {
   "cell_type": "code",
   "execution_count": 28,
   "metadata": {},
   "outputs": [],
   "source": [
    "fig = go.Figure()\n",
    "fig.add_trace(go.Scatterpolar(\n",
    "    r = select_row(fewshot_df, \"SSL\"), \n",
    "    theta = datasets_minus_models,\n",
    "    fill='toself',\n",
    "    name='SSL',\n",
    "    fillcolor='blue',\n",
    "    opacity=0.4,\n",
    "    marker_color='blue',\n",
    "))\n",
    "fig.add_trace(go.Scatterpolar(\n",
    "    r = select_row(fewshot_df, \"Supervised\"), \n",
    "    theta = datasets_minus_models,\n",
    "    fill='toself',\n",
    "    name='Supervised',\n",
    "    fillcolor='green',\n",
    "    opacity=0.3,\n",
    "    marker_color='green',\n",
    "))\n",
    "# fig.add_trace(go.Scatterpolar(\n",
    "#     r = select_row(fewshot_df, \"Medical SSL\"), \n",
    "#     theta = datasets_minus_models,\n",
    "#     fill='toself',\n",
    "#     name='Medical SSL',\n",
    "#     fillcolor='red',\n",
    "#     opacity=0.5,\n",
    "#     marker_color='red',\n",
    "# ))\n",
    "fig.update_layout(\n",
    "  polar=dict(\n",
    "    radialaxis=dict(\n",
    "      visible=False,\n",
    "      range=[0, 1],\n",
    "    ),\n",
    "  ),\n",
    "  showlegend=True,\n",
    ")\n",
    "#fig.show()\n",
    "fig.write_image('radar_plots/test_check_2.png')"
   ]
  }
 ],
 "metadata": {
  "interpreter": {
   "hash": "38ed0a01b9d97716726e9cd3f87e8e2f5359d3b8cd97e291b7bd0171c939e2c8"
  },
  "kernelspec": {
   "display_name": "Python 3.8.10 ('ssl_venv')",
   "language": "python",
   "name": "python3"
  },
  "language_info": {
   "codemirror_mode": {
    "name": "ipython",
    "version": 3
   },
   "file_extension": ".py",
   "mimetype": "text/x-python",
   "name": "python",
   "nbconvert_exporter": "python",
   "pygments_lexer": "ipython3",
   "version": "3.8.10"
  },
  "orig_nbformat": 4
 },
 "nbformat": 4,
 "nbformat_minor": 2
}
